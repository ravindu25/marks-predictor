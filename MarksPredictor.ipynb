{
  "nbformat": 4,
  "nbformat_minor": 0,
  "metadata": {
    "colab": {
      "name": "MarksPredictor.ipynb",
      "provenance": [],
      "collapsed_sections": [],
      "authorship_tag": "ABX9TyNN6wTydejxddHZ4UIOZOW5",
      "include_colab_link": true
    },
    "kernelspec": {
      "name": "python3",
      "display_name": "Python 3"
    },
    "language_info": {
      "name": "python"
    }
  },
  "cells": [
    {
      "cell_type": "markdown",
      "metadata": {
        "id": "view-in-github",
        "colab_type": "text"
      },
      "source": [
        "<a href=\"https://colab.research.google.com/github/ravindu25/marks-predictor/blob/main/MarksPredictor.ipynb\" target=\"_parent\"><img src=\"https://colab.research.google.com/assets/colab-badge.svg\" alt=\"Open In Colab\"/></a>"
      ]
    },
    {
      "cell_type": "markdown",
      "metadata": {
        "id": "Uocu7O8VhOL1"
      },
      "source": [
        "## **Marks Predictor using Linear Regression Method with Python**"
      ]
    },
    {
      "cell_type": "markdown",
      "metadata": {
        "id": "3yaoXo5xhp66"
      },
      "source": [
        "Step 1: We have to first import **panda** and **numpy** to python. They are two commonly used libraries for Machine Learning. We also need to import the library **matplotlib** to plot mathematical graphs graphicaly using python."
      ]
    },
    {
      "cell_type": "code",
      "metadata": {
        "id": "5kTx2R20hIHU"
      },
      "source": [
        "# importing the libraries\n",
        "import pandas as panda\n",
        "import numpy as numpy\n",
        "import matplotlib.pyplot as plot"
      ],
      "execution_count": 8,
      "outputs": []
    },
    {
      "cell_type": "markdown",
      "metadata": {
        "id": "tQQexy0liehM"
      },
      "source": [
        "Step 2: To train our program to learn to predict, we need Raw Data or in simple terms a well spread data set. The algorithm uses this to learn the patterns. For this program, I will be attaching a sample CSV file uploaded to my GitHub Repo."
      ]
    },
    {
      "cell_type": "code",
      "metadata": {
        "id": "EI5y5MYpi2TF"
      },
      "source": [
        "# set the link of Raw Data\n",
        "link = \"https://raw.githubusercontent.com/ravindu25/marks-predictor/main/student_scores.csv\""
      ],
      "execution_count": 13,
      "outputs": []
    },
    {
      "cell_type": "markdown",
      "metadata": {
        "id": "Hy8QOqT0jU71"
      },
      "source": [
        "Step 3: We have to now read the contents of the Raw Data we added earlier to a pandas data frame."
      ]
    },
    {
      "cell_type": "code",
      "metadata": {
        "id": "5DdwwFjLjput"
      },
      "source": [
        "# read raw data to pandas data frame\n",
        "marks = panda.read_csv(link)"
      ],
      "execution_count": 14,
      "outputs": []
    },
    {
      "cell_type": "markdown",
      "metadata": {
        "id": "koMwfgJJj46V"
      },
      "source": [
        "Step 4: The imported marks can be previewed then to ensure the marks are properly fed. We can mention the number of lines to be read here within brackets."
      ]
    },
    {
      "cell_type": "code",
      "metadata": {
        "colab": {
          "base_uri": "https://localhost:8080/",
          "height": 204
        },
        "id": "VTedKb4PkGxh",
        "outputId": "f5a08024-9fa3-48e1-d48b-ae3ccb271f0d"
      },
      "source": [
        "marks.head(5)"
      ],
      "execution_count": 15,
      "outputs": [
        {
          "output_type": "execute_result",
          "data": {
            "text/html": [
              "<div>\n",
              "<style scoped>\n",
              "    .dataframe tbody tr th:only-of-type {\n",
              "        vertical-align: middle;\n",
              "    }\n",
              "\n",
              "    .dataframe tbody tr th {\n",
              "        vertical-align: top;\n",
              "    }\n",
              "\n",
              "    .dataframe thead th {\n",
              "        text-align: right;\n",
              "    }\n",
              "</style>\n",
              "<table border=\"1\" class=\"dataframe\">\n",
              "  <thead>\n",
              "    <tr style=\"text-align: right;\">\n",
              "      <th></th>\n",
              "      <th>Hours</th>\n",
              "      <th>Scores</th>\n",
              "    </tr>\n",
              "  </thead>\n",
              "  <tbody>\n",
              "    <tr>\n",
              "      <th>0</th>\n",
              "      <td>2.5</td>\n",
              "      <td>21</td>\n",
              "    </tr>\n",
              "    <tr>\n",
              "      <th>1</th>\n",
              "      <td>5.1</td>\n",
              "      <td>47</td>\n",
              "    </tr>\n",
              "    <tr>\n",
              "      <th>2</th>\n",
              "      <td>3.2</td>\n",
              "      <td>27</td>\n",
              "    </tr>\n",
              "    <tr>\n",
              "      <th>3</th>\n",
              "      <td>8.5</td>\n",
              "      <td>75</td>\n",
              "    </tr>\n",
              "    <tr>\n",
              "      <th>4</th>\n",
              "      <td>3.5</td>\n",
              "      <td>30</td>\n",
              "    </tr>\n",
              "  </tbody>\n",
              "</table>\n",
              "</div>"
            ],
            "text/plain": [
              "   Hours  Scores\n",
              "0    2.5      21\n",
              "1    5.1      47\n",
              "2    3.2      27\n",
              "3    8.5      75\n",
              "4    3.5      30"
            ]
          },
          "metadata": {
            "tags": []
          },
          "execution_count": 15
        }
      ]
    },
    {
      "cell_type": "markdown",
      "metadata": {
        "id": "9cG8BAwsktx4"
      },
      "source": [
        "Step 5: We can then preview our raw data on a graphically plotted graph using mathplotlib"
      ]
    },
    {
      "cell_type": "code",
      "metadata": {
        "colab": {
          "base_uri": "https://localhost:8080/",
          "height": 312
        },
        "id": "sEl3awWmk1lr",
        "outputId": "2c034b7d-709f-4ee1-ea80-352ecc972b57"
      },
      "source": [
        "plot.scatter(data=marks, x=\"Hours\", y=\"Scores\")\n",
        "plot.xlabel(\"No of hours studied\")\n",
        "plot.ylabel(\"Marks obtained\")\n",
        "plot.title(\"Marks Obtained vs Hours Studied\")"
      ],
      "execution_count": 16,
      "outputs": [
        {
          "output_type": "execute_result",
          "data": {
            "text/plain": [
              "Text(0.5, 1.0, 'Marks Obtained vs Hours Studied')"
            ]
          },
          "metadata": {
            "tags": []
          },
          "execution_count": 16
        },
        {
          "output_type": "display_data",
          "data": {
            "image/png": "[encoded data removed]",
            "text/plain": [
              "<Figure size 432x288 with 1 Axes>"
            ]
          },
          "metadata": {
            "tags": [],
            "needs_background": "light"
          }
        }
      ]
    },
    {
      "cell_type": "markdown",
      "metadata": {
        "id": "GoDUYZMolilJ"
      },
      "source": [
        "Step 6: In order to train our program, we need to pre-process the data. For that we will assign the two axes to two variables."
      ]
    },
    {
      "cell_type": "code",
      "metadata": {
        "id": "wbjLCRVulr8a"
      },
      "source": [
        "x = marks[\"Hours\"]\n",
        "y = marks[\"Scores\"]"
      ],
      "execution_count": 17,
      "outputs": []
    },
    {
      "cell_type": "markdown",
      "metadata": {
        "id": "UIrb5ooQly4A"
      },
      "source": [
        "Step 7: We then need to split our data into two sets which are:\n",
        "\n",
        "        1. Training Data\n",
        "        2. Testing Data\n",
        "      \n",
        "        We can achieve this by train_test_split from sklearn"
      ]
    },
    {
      "cell_type": "code",
      "metadata": {
        "id": "-xlUES8Rmeus"
      },
      "source": [
        "# split data\n",
        "from sklearn.model_selection import train_test_split\n",
        "x_train, x_test, y_train, y_test = train_test_split(x.values.reshape(-1,1), y)"
      ],
      "execution_count": 18,
      "outputs": []
    },
    {
      "cell_type": "markdown",
      "metadata": {
        "id": "jv53aZ8BmuWJ"
      },
      "source": [
        "Step 8: We can now train our program using the \"Test Data\" which we splitted before. We use the statistical model of \"Regression Analysis\" for the purpose of analysing the data"
      ]
    },
    {
      "cell_type": "code",
      "metadata": {
        "id": "nHBO_zVUm8ZZ"
      },
      "source": [
        "# training the program\n",
        "from sklearn.linear_model import LinearRegression\n",
        "marks_model = LinearRegression().fit(x_train, y_train)"
      ],
      "execution_count": 19,
      "outputs": []
    },
    {
      "cell_type": "markdown",
      "metadata": {
        "id": "1UqNEEvQnPVU"
      },
      "source": [
        "Step 9: We can now plot the \"Training Data\" and \"Testing Data\" on a single scatter graph using mathplotlib. We can use two colours to properly distinguish them. I will use \"Red\" for Training Data and \"Green\" for Testing Data here."
      ]
    },
    {
      "cell_type": "code",
      "metadata": {
        "colab": {
          "base_uri": "https://localhost:8080/",
          "height": 312
        },
        "id": "ypWTRLlqnpyS",
        "outputId": "105961b3-90a3-4114-93da-c1ac22de139c"
      },
      "source": [
        "plot.scatter(x_train, y_train, color=\"red\")\n",
        "plot.scatter(x_test, y_test, color=\"green\")\n",
        "plot.xlabel(\"No. of hours studied\")\n",
        "plot.ylabel(\"Marks obtained\")\n",
        "plot.title(\"Marks obtained vs Hours studied\")"
      ],
      "execution_count": 21,
      "outputs": [
        {
          "output_type": "execute_result",
          "data": {
            "text/plain": [
              "Text(0.5, 1.0, 'Marks obtained vs Hours studied')"
            ]
          },
          "metadata": {
            "tags": []
          },
          "execution_count": 21
        },
        {
          "output_type": "display_data",
          "data": {
            "image/png": "[encoded data removed]",
            "text/plain": [
              "<Figure size 432x288 with 1 Axes>"
            ]
          },
          "metadata": {
            "tags": [],
            "needs_background": "light"
          }
        }
      ]
    },
    {
      "cell_type": "markdown",
      "metadata": {
        "id": "299Z6VDxn8M6"
      },
      "source": [
        "Step 10: Now our program is fully trained and can be used to output the Mark for any given Input - \"Hours Studied\"\n",
        "\n",
        "A if condition is used to make sure the predicted mark does not exceed 100."
      ]
    },
    {
      "cell_type": "code",
      "metadata": {
        "colab": {
          "base_uri": "https://localhost:8080/"
        },
        "id": "NS02MujOoOzI",
        "outputId": "af1f9bf3-ef45-49cc-aa1a-4e9b5244c5dc"
      },
      "source": [
        "out_mark = marks_model.predict([[9]])[0]\n",
        "pred_mark = str(numpy.round(out_mark,2))\n",
        "if(float(pred_mark)>100):\n",
        "  pred_mark = str(100)\n",
        "print(\"Predicted marks for a student who has studied for 9 hours : \" + pred_mark)"
      ],
      "execution_count": 30,
      "outputs": [
        {
          "output_type": "stream",
          "text": [
            "Predicted marks for a student who has studied for 9 hours : 91.89\n"
          ],
          "name": "stdout"
        }
      ]
    }
  ]
}